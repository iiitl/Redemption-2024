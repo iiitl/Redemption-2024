{
  "cells": [
    {
      "cell_type": "markdown",
      "source": [
        "Importing Libraries"
      ],
      "metadata": {
        "id": "H9XtHbcDA5c0"
      }
    },
    {
      "cell_type": "code",
      "execution_count": 2,
      "metadata": {
        "id": "DcErUTj1A-01"
      },
      "outputs": [],
      "source": [
        "import numpy as np\n",
        "import pandas as pd\n",
        "import matplotlib.pyplot as plt\n",
        "import seaborn as sns\n",
        "from sklearn.preprocessing import StandardScaler\n",
        "from sklearn.model_selection import train_test_split\n",
        "from sklearn.metrics import accuracy_score\n",
        "from sklearn.linear_model import LogisticRegression\n",
        "from sklearn.tree import DecisionTreeClassifier\n",
        "from sklearn.ensemble import RandomForestClassifier\n",
        "from sklearn.svm import SVC\n",
        "import re\n",
        "import nltk\n",
        "from nltk.corpus import stopwords\n",
        "from nltk.tokenize import word_tokenize\n",
        "from nltk.stem.porter import PorterStemmer\n",
        "from sklearn.feature_extraction.text import TfidfVectorizer\n",
        "from sklearn.model_selection import train_test_split"
      ]
    },
    {
      "cell_type": "code",
      "execution_count": 3,
      "metadata": {
        "colab": {
          "base_uri": "https://localhost:8080/",
          "height": 206
        },
        "id": "GXkxq7S1BolH",
        "outputId": "6a53c53f-df1c-49bb-e667-1acc815d7f26"
      },
      "outputs": [
        {
          "output_type": "execute_result",
          "data": {
            "text/plain": [
              "   label                                             origin\n",
              "0      0  Received: from rodan.UU.NET by aramis.rutgers....\n",
              "1      1  Received: from unknown (HELO groucho.cs.psu.ed...\n",
              "2      1  Received: \\n\\tfrom 24-151-178-89.dhcp.kgpt.tn....\n",
              "3      0  Received: from psuvax1.cs.psu.edu ([130.203.2....\n",
              "4      1  Received: from 201-1-198-159.dsl.telesp.net.br..."
            ],
            "text/html": [
              "\n",
              "  <div id=\"df-3837c8ee-5a87-4669-9795-df8b467f8968\" class=\"colab-df-container\">\n",
              "    <div>\n",
              "<style scoped>\n",
              "    .dataframe tbody tr th:only-of-type {\n",
              "        vertical-align: middle;\n",
              "    }\n",
              "\n",
              "    .dataframe tbody tr th {\n",
              "        vertical-align: top;\n",
              "    }\n",
              "\n",
              "    .dataframe thead th {\n",
              "        text-align: right;\n",
              "    }\n",
              "</style>\n",
              "<table border=\"1\" class=\"dataframe\">\n",
              "  <thead>\n",
              "    <tr style=\"text-align: right;\">\n",
              "      <th></th>\n",
              "      <th>label</th>\n",
              "      <th>origin</th>\n",
              "    </tr>\n",
              "  </thead>\n",
              "  <tbody>\n",
              "    <tr>\n",
              "      <th>0</th>\n",
              "      <td>0</td>\n",
              "      <td>Received: from rodan.UU.NET by aramis.rutgers....</td>\n",
              "    </tr>\n",
              "    <tr>\n",
              "      <th>1</th>\n",
              "      <td>1</td>\n",
              "      <td>Received: from unknown (HELO groucho.cs.psu.ed...</td>\n",
              "    </tr>\n",
              "    <tr>\n",
              "      <th>2</th>\n",
              "      <td>1</td>\n",
              "      <td>Received: \\n\\tfrom 24-151-178-89.dhcp.kgpt.tn....</td>\n",
              "    </tr>\n",
              "    <tr>\n",
              "      <th>3</th>\n",
              "      <td>0</td>\n",
              "      <td>Received: from psuvax1.cs.psu.edu ([130.203.2....</td>\n",
              "    </tr>\n",
              "    <tr>\n",
              "      <th>4</th>\n",
              "      <td>1</td>\n",
              "      <td>Received: from 201-1-198-159.dsl.telesp.net.br...</td>\n",
              "    </tr>\n",
              "  </tbody>\n",
              "</table>\n",
              "</div>\n",
              "    <div class=\"colab-df-buttons\">\n",
              "\n",
              "  <div class=\"colab-df-container\">\n",
              "    <button class=\"colab-df-convert\" onclick=\"convertToInteractive('df-3837c8ee-5a87-4669-9795-df8b467f8968')\"\n",
              "            title=\"Convert this dataframe to an interactive table.\"\n",
              "            style=\"display:none;\">\n",
              "\n",
              "  <svg xmlns=\"http://www.w3.org/2000/svg\" height=\"24px\" viewBox=\"0 -960 960 960\">\n",
              "    <path d=\"M120-120v-720h720v720H120Zm60-500h600v-160H180v160Zm220 220h160v-160H400v160Zm0 220h160v-160H400v160ZM180-400h160v-160H180v160Zm440 0h160v-160H620v160ZM180-180h160v-160H180v160Zm440 0h160v-160H620v160Z\"/>\n",
              "  </svg>\n",
              "    </button>\n",
              "\n",
              "  <style>\n",
              "    .colab-df-container {\n",
              "      display:flex;\n",
              "      gap: 12px;\n",
              "    }\n",
              "\n",
              "    .colab-df-convert {\n",
              "      background-color: #E8F0FE;\n",
              "      border: none;\n",
              "      border-radius: 50%;\n",
              "      cursor: pointer;\n",
              "      display: none;\n",
              "      fill: #1967D2;\n",
              "      height: 32px;\n",
              "      padding: 0 0 0 0;\n",
              "      width: 32px;\n",
              "    }\n",
              "\n",
              "    .colab-df-convert:hover {\n",
              "      background-color: #E2EBFA;\n",
              "      box-shadow: 0px 1px 2px rgba(60, 64, 67, 0.3), 0px 1px 3px 1px rgba(60, 64, 67, 0.15);\n",
              "      fill: #174EA6;\n",
              "    }\n",
              "\n",
              "    .colab-df-buttons div {\n",
              "      margin-bottom: 4px;\n",
              "    }\n",
              "\n",
              "    [theme=dark] .colab-df-convert {\n",
              "      background-color: #3B4455;\n",
              "      fill: #D2E3FC;\n",
              "    }\n",
              "\n",
              "    [theme=dark] .colab-df-convert:hover {\n",
              "      background-color: #434B5C;\n",
              "      box-shadow: 0px 1px 3px 1px rgba(0, 0, 0, 0.15);\n",
              "      filter: drop-shadow(0px 1px 2px rgba(0, 0, 0, 0.3));\n",
              "      fill: #FFFFFF;\n",
              "    }\n",
              "  </style>\n",
              "\n",
              "    <script>\n",
              "      const buttonEl =\n",
              "        document.querySelector('#df-3837c8ee-5a87-4669-9795-df8b467f8968 button.colab-df-convert');\n",
              "      buttonEl.style.display =\n",
              "        google.colab.kernel.accessAllowed ? 'block' : 'none';\n",
              "\n",
              "      async function convertToInteractive(key) {\n",
              "        const element = document.querySelector('#df-3837c8ee-5a87-4669-9795-df8b467f8968');\n",
              "        const dataTable =\n",
              "          await google.colab.kernel.invokeFunction('convertToInteractive',\n",
              "                                                    [key], {});\n",
              "        if (!dataTable) return;\n",
              "\n",
              "        const docLinkHtml = 'Like what you see? Visit the ' +\n",
              "          '<a target=\"_blank\" href=https://colab.research.google.com/notebooks/data_table.ipynb>data table notebook</a>'\n",
              "          + ' to learn more about interactive tables.';\n",
              "        element.innerHTML = '';\n",
              "        dataTable['output_type'] = 'display_data';\n",
              "        await google.colab.output.renderOutput(dataTable, element);\n",
              "        const docLink = document.createElement('div');\n",
              "        docLink.innerHTML = docLinkHtml;\n",
              "        element.appendChild(docLink);\n",
              "      }\n",
              "    </script>\n",
              "  </div>\n",
              "\n",
              "\n",
              "<div id=\"df-7a8067e6-ba0d-4b5e-a5c0-29c53abdd167\">\n",
              "  <button class=\"colab-df-quickchart\" onclick=\"quickchart('df-7a8067e6-ba0d-4b5e-a5c0-29c53abdd167')\"\n",
              "            title=\"Suggest charts\"\n",
              "            style=\"display:none;\">\n",
              "\n",
              "<svg xmlns=\"http://www.w3.org/2000/svg\" height=\"24px\"viewBox=\"0 0 24 24\"\n",
              "     width=\"24px\">\n",
              "    <g>\n",
              "        <path d=\"M19 3H5c-1.1 0-2 .9-2 2v14c0 1.1.9 2 2 2h14c1.1 0 2-.9 2-2V5c0-1.1-.9-2-2-2zM9 17H7v-7h2v7zm4 0h-2V7h2v10zm4 0h-2v-4h2v4z\"/>\n",
              "    </g>\n",
              "</svg>\n",
              "  </button>\n",
              "\n",
              "<style>\n",
              "  .colab-df-quickchart {\n",
              "      --bg-color: #E8F0FE;\n",
              "      --fill-color: #1967D2;\n",
              "      --hover-bg-color: #E2EBFA;\n",
              "      --hover-fill-color: #174EA6;\n",
              "      --disabled-fill-color: #AAA;\n",
              "      --disabled-bg-color: #DDD;\n",
              "  }\n",
              "\n",
              "  [theme=dark] .colab-df-quickchart {\n",
              "      --bg-color: #3B4455;\n",
              "      --fill-color: #D2E3FC;\n",
              "      --hover-bg-color: #434B5C;\n",
              "      --hover-fill-color: #FFFFFF;\n",
              "      --disabled-bg-color: #3B4455;\n",
              "      --disabled-fill-color: #666;\n",
              "  }\n",
              "\n",
              "  .colab-df-quickchart {\n",
              "    background-color: var(--bg-color);\n",
              "    border: none;\n",
              "    border-radius: 50%;\n",
              "    cursor: pointer;\n",
              "    display: none;\n",
              "    fill: var(--fill-color);\n",
              "    height: 32px;\n",
              "    padding: 0;\n",
              "    width: 32px;\n",
              "  }\n",
              "\n",
              "  .colab-df-quickchart:hover {\n",
              "    background-color: var(--hover-bg-color);\n",
              "    box-shadow: 0 1px 2px rgba(60, 64, 67, 0.3), 0 1px 3px 1px rgba(60, 64, 67, 0.15);\n",
              "    fill: var(--button-hover-fill-color);\n",
              "  }\n",
              "\n",
              "  .colab-df-quickchart-complete:disabled,\n",
              "  .colab-df-quickchart-complete:disabled:hover {\n",
              "    background-color: var(--disabled-bg-color);\n",
              "    fill: var(--disabled-fill-color);\n",
              "    box-shadow: none;\n",
              "  }\n",
              "\n",
              "  .colab-df-spinner {\n",
              "    border: 2px solid var(--fill-color);\n",
              "    border-color: transparent;\n",
              "    border-bottom-color: var(--fill-color);\n",
              "    animation:\n",
              "      spin 1s steps(1) infinite;\n",
              "  }\n",
              "\n",
              "  @keyframes spin {\n",
              "    0% {\n",
              "      border-color: transparent;\n",
              "      border-bottom-color: var(--fill-color);\n",
              "      border-left-color: var(--fill-color);\n",
              "    }\n",
              "    20% {\n",
              "      border-color: transparent;\n",
              "      border-left-color: var(--fill-color);\n",
              "      border-top-color: var(--fill-color);\n",
              "    }\n",
              "    30% {\n",
              "      border-color: transparent;\n",
              "      border-left-color: var(--fill-color);\n",
              "      border-top-color: var(--fill-color);\n",
              "      border-right-color: var(--fill-color);\n",
              "    }\n",
              "    40% {\n",
              "      border-color: transparent;\n",
              "      border-right-color: var(--fill-color);\n",
              "      border-top-color: var(--fill-color);\n",
              "    }\n",
              "    60% {\n",
              "      border-color: transparent;\n",
              "      border-right-color: var(--fill-color);\n",
              "    }\n",
              "    80% {\n",
              "      border-color: transparent;\n",
              "      border-right-color: var(--fill-color);\n",
              "      border-bottom-color: var(--fill-color);\n",
              "    }\n",
              "    90% {\n",
              "      border-color: transparent;\n",
              "      border-bottom-color: var(--fill-color);\n",
              "    }\n",
              "  }\n",
              "</style>\n",
              "\n",
              "  <script>\n",
              "    async function quickchart(key) {\n",
              "      const quickchartButtonEl =\n",
              "        document.querySelector('#' + key + ' button');\n",
              "      quickchartButtonEl.disabled = true;  // To prevent multiple clicks.\n",
              "      quickchartButtonEl.classList.add('colab-df-spinner');\n",
              "      try {\n",
              "        const charts = await google.colab.kernel.invokeFunction(\n",
              "            'suggestCharts', [key], {});\n",
              "      } catch (error) {\n",
              "        console.error('Error during call to suggestCharts:', error);\n",
              "      }\n",
              "      quickchartButtonEl.classList.remove('colab-df-spinner');\n",
              "      quickchartButtonEl.classList.add('colab-df-quickchart-complete');\n",
              "    }\n",
              "    (() => {\n",
              "      let quickchartButtonEl =\n",
              "        document.querySelector('#df-7a8067e6-ba0d-4b5e-a5c0-29c53abdd167 button');\n",
              "      quickchartButtonEl.style.display =\n",
              "        google.colab.kernel.accessAllowed ? 'block' : 'none';\n",
              "    })();\n",
              "  </script>\n",
              "</div>\n",
              "    </div>\n",
              "  </div>\n"
            ],
            "application/vnd.google.colaboratory.intrinsic+json": {
              "type": "dataframe",
              "variable_name": "df",
              "summary": "{\n  \"name\": \"df\",\n  \"rows\": 37822,\n  \"fields\": [\n    {\n      \"column\": \"label\",\n      \"properties\": {\n        \"dtype\": \"number\",\n        \"std\": 0,\n        \"min\": 0,\n        \"max\": 1,\n        \"num_unique_values\": 2,\n        \"samples\": [\n          1,\n          0\n        ],\n        \"semantic_type\": \"\",\n        \"description\": \"\"\n      }\n    },\n    {\n      \"column\": \"origin\",\n      \"properties\": {\n        \"dtype\": \"string\",\n        \"num_unique_values\": 37788,\n        \"samples\": [\n          \"Received: from send201.yahoomail.com (send201.yahoomail.com [205.180.60.131])\\n\\tby aleve.media.mit.edu (8.9.1a/8.9.1/+ALEVE) with SMTP id WAA01064\\n\\tfor <handyboard@media.mit.edu>; Wed, 6 Jan 1999 22:43:11 -0500 (EST)\\nMessage-Id: <19990107034501.5869.rocketmail@send201.yahoomail.com>\\nReceived: from [207.172.245.128] by send201.yahoomail.com; Wed, 06 Jan 1999 19:45:01 PST\\nDate: Wed, 6 Jan 1999 19:45:01 -0800 (PST)\\nFrom: Christopher Prosser <christopherprosser@yahoo.com>\\nReply-To: cprosser@acm.org\\nSubject: Re: Type conversion IC.\\nTo: FEDSANTE@tin.it, handyboard@media.mit.edu\\nMime-Version: 1.0\\nContent-Type: text/plain; charset=us-ascii\\n\\nI don't have IC handy, but you should just be able to do\\na hard cast.\\nfloat aFloat = 1.3;\\nint   anInteger = 0;\\nanInteger = (int) aFloat; /*cast the float to an int */\\n\\n/*you can also do it in a function call*/\\nFuntionTakesAnInt( (int) aFloat );\\n\\nHope this helps!\\n-Chris Prosser\\n\\n\\n\\n\\n---FEDERICO SANTELLO <fedsante@tin.it> wrote:\\n>\\n> Hi to all\\n> And HAPPY NEW YEAR.\\n> \\n> I have a question.\\n> How can i convert a floating variable into a integer variable?\\n> I must send via serial line the result of the functions SECONDS().\\n> \\n> Thank \\n> \\n> Federico\\n> \\n> E-mail:fedsante@tin.it\\n> \\n\\n_________________________________________________________\\nDO YOU YAHOO!?\\nGet your free @yahoo.com address at http://mail.yahoo.com\\n\\n\\n\",\n          \"Received: from localhost (unknown [221.202.170.253]) by psy1.psych.arizona.edu (8.12.10/8.12.4)\\n\\twith ESMTP id k1AG9vg1023290 for <DMDX@psy1.psych.arizona.edu>; Sat, 11 Feb 2006 12:31:12 -0700\\nMessage-ID: <000001c6785b$c9d25680$0100007f@localhost>\\nFrom: \\\"Mitchell Thompson\\\" <ventera@rentedtitles.com>\\nTo: <DMDX@psy1.psych.arizona.edu>\\nSubject: 0EM Software\\nDate: Sat, 11 Feb 2006 20:32:33 +0800\\nMIME-Version: 1.0\\nContent-Type: multipart/alternative;\\n    boundary=\\\"----=_NextPart_000_0001_01C6785B.C9D25680\\\"\\nX-Priority: 3\\nX-MSMail-Priority: Normal\\nX-Mailer: Microsoft Outlook Express 6.00.2900.2180\\nX-MimeOLE: Produced By Microsoft MimeOLE V6.00.2900.2180\\n\\nThis is a multi-part message in MIME format.\\n\\n------=_NextPart_000_0001_01C6785B.C9D25680\\nContent-Type: text/plain;\\n\\tcharset=\\\"us-ascii\\\"\\nContent-Transfer-Encoding: quoted-printable\\n\\n\\nSpecial Offer\\nAdobe Video Collection\\nAdobe Premiere 1.5 Professional\\nAdobe After Effects 6.5 Professional\\nAdobe Audition 1.5\\nAdobe Encore DVD 1.5\\n$149.95\\nMore Info >>  Microsoft 2 in 1\\nMS Windows XP Pro\\nMS Office 2003 Pro\\n\\n\\n\\n\\n\\n$99.95\\nMore Info >>  Microsoft + Adobe 3 in 1\\n\\nMS Windows XP Pro\\nMS Office 2003 Pro\\nAdobe Acrobat 7.0 Professional\\n\\n\\n\\n$149.95\\nMore Info >>\\n\\nBestsellers\\n Microsoft Office Professional Edition 2003\\nRating:  6 reviews\\nRetail price: $550.00\\n\\nYou save: $480.05 (87%)\\nOur price: $69.95\\n    [Add to cart]\\n\\n Microsoft Windows XP Professional\\nRating:  8 reviews\\nRetail price: $200.00\\n\\nYou save: $150.05 (75%)\\n\\nOur price: $49.95\\n    [Add to cart]\\n\\n Adobe Photoshop CS2 V 9.0\\nRating:  3 reviews\\nRetail price: $599.00\\n\\nYou save: $529.05 (88%)\\n\\nOur price: $69.95\\n    [Add to cart]\\n\\n\\n------=_NextPart_000_0001_01C6785B.C9D25680\\nContent-Type: text/html;\\n    charset=\\\"us-ascii\\\"\\nContent-Transfer-Encoding: quoted-printable\\n\\n<!DOCTYPE HTML PUBLIC \\\"-//W3C//DTD HTML 4.01 Transitional//EN\\\"><HTML><HEAD><TITLE> DS</TITLE><meta http-equiv=3D\\\"Content-Type\\\" content=3D\\\"text/html; charset=3Dwindows-1252\\\"><style>\\nBODY { FONT-SIZE: 11px; COLOR: #000; FONT-FAMILY: Verdana, sans-serif } TD { FONT-SIZE: 11px; MARGIN: 0px; COLOR: #000; FONT-FAMILY: Verdana, sans-serif } A { COLOR: #00c; TEXT-DECORATION: underline} A:visited { COLOR: #00c} .product_table {PADDING-RIGHT: 0px; MARGIN-TOP: 0px; PADDING-LEFT: 0px; PADDING-BOTTOM: 3px; WIDTH: 100%; PADDING-TOP: 3px; BORDER-COLLAPSE: collapse} .product_table TD { BORDER-BOTTOM: #ddd 1px solid} .product_table .compacted_image {PADDING-RIGHT: 15px; PADDING-LEFT: 0px; PADDING-BOTTOM: 13px; VERTICAL-ALIGN: top; WIDTH: 1%; PADDING-TOP: 15px; TEXT-ALIGN: center} .product_table .compacted_image IMG {BORDER-RIGHT: #ddd 1px solid; BORDER-TOP: #ddd 1px solid; MARGIN: 5px 0px 5px 5px; BORDER-LEFT: #ddd 1px solid; BORDER-BOTTOM: #ddd 1px solid}.product_table .compacted_description {PADDING-RIGHT: 15px; PADDING-LEFT: 0px; PADDING-BOTTOM: 13px; VERTICAL-ALIGN: top; WIDTH: auto; PADDING-TOP: 15px} .product_table .titlelink {FONT-WEIGHT: bold; FONT-SIZE: 13px} .product_table .compacted_description P {DISPLAY: block; FONT-WEIGHT: normal; FONT-SIZE: 11px; MARGIN: 4px 0px; COLOR: #666} .product_table .compacted_description .mediadescription {FONT-SIZE: 12px; MARGIN: 10px 0px 0px} .product_table .rating {FONT-WEIGHT: normal; FONT-SIZE: 11px; MARGIN: 10px 0px 0px} .product_table .rating IMG {BORDER-RIGHT: medium none; BORDER-TOP: medium none; VERTICAL-ALIGN: middle; BORDER-LEFT: medium none; BORDER-BOTTOM: medium none} .product_table .compacted_price {PADDING-RIGHT: 0px; PADDING-LEFT: 0px; PADDING-BOTTOM: 13px; VERTICAL-ALIGN: top; WIDTH: 1%; PADDING-TOP: 15px; WHITE-SPACE: nowrap; TEXT-ALIGN: center}.product_table .compacted_price IMG {BORDER-RIGHT: medium none; BORDER-TOP: medium none; DISPLAY: block; MARGIN: 5px auto; BORDER-LEFT: medium none; BORDER-BOTTOM: medium none} .product_table .addtolist_ {PADDING-RIGHT: 0px; DISPLAY: block; PADDING-LEFT: 0px; FONT-WEIGHT: normal; FONT-SIZE: 10px; PADDING-BOTTOM: 0px; PADDING-TOP: 5px;} .product_table .greylink {FONT-WEIGHT: normal; COLOR: #666; TEXT-DECORATION: none} .product_table .greylink:visited {FONT-WEIGHT: normal; COLOR: #666; TEXT-DECORATION: none} .product_table .odd {BACKGROUND-COLOR: #fff} .hp_main_table {background: #ccc;} .hp_main_center {background: #fff;} .hp_main_left {background: #fff;} div.top{background: #F2F2F2; padding: 5px; text-align: center; color: #ca0000;font-size: 18px;font-weight: bold;} .hw{font-size: 10px;} .padding_0{padding: 0px;} .sp_title{font-weight: bold;color: #0000ff;font-size: 13px;} .sp_cont{font-weight: bold;} .sp_cont { margin-left: 10px; padding-left: 10px; } .sp_price{color: #FF0000; font-size: 16px; font-weight: bold;}.b_price{color: #6B9E28; font-size: 20px;}.dgts{color:#FF0000; font-weight: bold;} .border{ border: 1px solid #ddd; padding: 3px; }\\n</style></HEAD><BODY><table border=3D\\\"0\\\" width=3D\\\"600\\\" class=3D\\\"hp_main_table\\\" cellpadding=3D\\\"3\\\" cellspacing=3D\\\"1\\\"><tr> <td class=3D\\\"padding_0\\\"><div class=3D\\\"top\\\"> Special Offer</div></td></tr><tr> <td class=3D\\\"hp_main_center\\\" valign=3D\\\"top\\\"><TABLE class=3Dproduct_table cellSpacing=3D0 cellPadding=3D3><TR class=3Dodd> <TD width=3D\\\"33%\\\" valign=3D\\\"top\\\"><div class=3D\\\"border\\\"> <a href=3D\\\"http://left.anotherparty.net/\\\" class=3D\\\"sp_title\\\"> Adobe Video Collection</a><ul class=3D\\\"sp_cont\\\"><li>Adobe Premiere 1.5 Professional<li>Adobe After Effects 6.5 Professional<li>Adobe Audition 1.5<li>Adobe Encore DVD 1.5</ul><div align=3D\\\"right\\\" class=3D\\\"sp_price\\\"> <u>$149.95</u> &nbsp;&nbsp;&nbsp;</div></span> <a href=3D\\\"http://left.anotherparty.net/\\\"> More Info >></a></div></TD> <TD  width=3D\\\"33%\\\" valign=3D\\\"top\\\"><div class=3D\\\"border\\\"> <a href=3D\\\"http://left.anotherparty.net/\\\" class=3D\\\"sp_title\\\"> Microsoft 2 in 1</a><ul class=3D\\\"sp_cont\\\"><li> MS Windows XP Pro<li>MS Office 2003 Pro</ul> <br> <br> <br> <br><div align=3D\\\"right\\\" class=3D\\\"sp_price\\\"> <u>$99.95</u> &nbsp;&nbsp;&nbsp;</div></span> <a href=3D\\\"http://left.anotherparty.net/\\\"> More Info >></a></div></TD>\\n<TD  width=3D\\\"33%\\\" valign=3D\\\"top\\\"><div class=3D\\\"border\\\"> <a href=3D\\\"http://left.anotherparty.net/\\\" class=3D\\\"sp_title\\\"> Microsoft + Adobe 3 in 1</a> <br><ul  class=3D\\\"sp_cont\\\"><li>MS Windows XP Pro<li>MS Office 2003 Pro<li>Adobe Acrobat 7.0 Professional</ul> <br> <br><div align=3D\\\"right\\\" class=3D\\\"sp_price\\\"> <u>$149.95</u> &nbsp;&nbsp;&nbsp;</div></span> <a href=3D\\\"http://left.anotherparty.net/\\\"> More Info >></a></div></TD></TR></TABLE></td></tr><tr> <td class=3D\\\"padding_0\\\"><div class=3D\\\"top\\\" class=3D\\\"hw\\\"> Bestsellers</div></td></tr><tr> <td class=3D\\\"hp_main_center\\\" valign=3D\\\"top\\\"><TABLE class=3Dproduct_table cellSpacing=3D0 cellPadding=3D0><TR class=3Dodd> <TD class=3Dcompacted_image> <A href=3D\\\"http://left.anotherparty.net/\\\"> <IMG height=3D100 alt=3D\\\"\\\" src=3D\\\"http://image.shopzilla.com/resize?sq=3D100&uid=3D8778190\\\" width=3D100></A></TD> <TD class=3Dcompacted_description> <A class=3Dtitlelink href=3D\\\"http://left.anotherparty.net/\\\"> Microsoft Office Professional Edition 2003</A><div class=3D\\\"rating\\\"> Rating: <a class=3D\\\"greylink\\\" href=3D\\\"http://left.anotherparty.net/\\\"> <img src=3D\\\"http://img.shopzilla.com/shopzilla/rating_5_star_104x19.gif\\\"> 6 reviews</a></div>\\n<s> Retail price: $550.00</s><br> <font color=3D\\\"#6B9E28\\\"> You save: $480.05 (87%)</font> <br> <span class=3D\\\"b_price\\\"> Our price: <SPAN  class=3D\\\"dgts\\\"> <u>$69.95</u></span></SPAN></TD> <TD> &nbsp;</TD> <TD class=3Dcompacted_price><center> <A href=3D\\\"http://left.anotherparty.net/\\\"> <img src=3D\\\"http://g-images.amazon.com/images/G/01/detail/add-to-cart-midsize.gif\\\" border=3D\\\"0\\\"> <br>Add to cart</A></center> <br></TD></TR></TABLE><TABLE class=3Dproduct_table cellSpacing=3D0 cellPadding=3D0><TR class=3Dodd> <TD class=3Dcompacted_image> <A href=3D\\\"http://left.anotherparty.net/\\\"> <IMG height=3D100 alt=3D\\\"\\\" src=3D\\\"http://image.shopzilla.com/resize?sq=3D100&uid=3D6260970\\\" width=3D100></A></TD> <TD class=3Dcompacted_description> <A class=3Dtitlelink href=3D\\\"http://left.anotherparty.net/\\\"> Microsoft Windows XP Professional</A><div class=3D\\\"rating\\\"> Rating: <a class=3D\\\"greylink\\\" href=3D\\\"http://left.anotherparty.net/\\\"> <img src=3D\\\"http://img.shopzilla.com/shopzilla/rating_5_star_104x19.gif\\\"> 8 reviews</a></div> <s> Retail price: <SPAN class=3Dmoney> $200.00</SPAN></s> <br> <font color=3D\\\"#6B9E28\\\"> You save: <SPAN class=3Dmoney> $150.05 (75%)</font></SPAN> <br> <span class=3D\\\"b_price\\\"> Our price:\\n<SPAN  class=3D\\\"dgts\\\"> <u>$49.95</u></SPAN></SPAN></TD> <TD> &nbsp;</TD> <TD class=3Dcompacted_price><center> <A href=3D\\\"http://left.anotherparty.net/\\\"> <img src=3D\\\"http://g-images.amazon.com/images/G/01/detail/add-to-cart-midsize.gif\\\" border=3D\\\"0\\\"> <br>Add to cart</A></center> <br></TD></TR></TABLE><TABLE class=3Dproduct_table cellSpacing=3D0 cellPadding=3D0><TR class=3Dodd> <TD class=3Dcompacted_image> <A href=3D\\\"http://left.anotherparty.net/\\\"> <IMG height=3D100 alt=3D\\\"\\\" src=3D\\\"http://image.shopzilla.com/resize?sq=3D100&uid=3D321652686\\\" width=3D100></A></TD> <TD class=3Dcompacted_description> <A class=3Dtitlelink href=3D\\\"http://left.anotherparty.net/\\\"> Adobe Photoshop CS2 V 9.0</A><div class=3D\\\"rating\\\"> Rating: <a class=3D\\\"greylink\\\" href=3D\\\"http://left.anotherparty.net/\\\"> <img src=3D\\\"http://img.shopzilla.com/shopzilla/rating_5_star_104x19.gif\\\"> 3 reviews</a></div> <s> Retail price: <SPAN class=3Dmoney> $599.00</SPAN></s> <br> <font color=3D\\\"#6B9E28\\\"> You save: <SPAN class=3Dmoney> $529.05 (88%)</font></SPAN> <br> <span class=3D\\\"b_price\\\"> Our price: <SPAN  class=3D\\\"dgts\\\"> <u>$69.95</u></SPAN></SPAN></TD> <TD> &nbsp;</TD> <TD class=3Dcompacted_price><center>\\n<A href=3D\\\"http://left.anotherparty.net/\\\"> <img src=3D\\\"http://g-images.amazon.com/images/G/01/detail/add-to-cart-midsize.gif\\\" border=3D\\\"0\\\"> <br>Add to cart</A></center> <br></TD></TR></TABLE></td></tr></table></BODY></HTML>\\n\\n------=_NextPart_000_0001_01C6785B.C9D25680--\\n\\n\\n\"\n        ],\n        \"semantic_type\": \"\",\n        \"description\": \"\"\n      }\n    }\n  ]\n}"
            }
          },
          "metadata": {},
          "execution_count": 3
        }
      ],
      "source": [
        "df = pd.read_csv('/content/drive/MyDrive/Copy of Spam_classification.csv')\n",
        "df.head()"
      ]
    },
    {
      "cell_type": "markdown",
      "source": [
        "# DATA PREPROCESSING"
      ],
      "metadata": {
        "id": "PHbCg-EZBBx4"
      }
    },
    {
      "cell_type": "code",
      "execution_count": 4,
      "metadata": {
        "colab": {
          "base_uri": "https://localhost:8080/"
        },
        "id": "Hh4OCjwJB_gW",
        "outputId": "85a68524-8598-4804-92a6-5578faf38fd6"
      },
      "outputs": [
        {
          "output_type": "stream",
          "name": "stderr",
          "text": [
            "[nltk_data] Downloading package stopwords to /root/nltk_data...\n",
            "[nltk_data]   Unzipping corpora/stopwords.zip.\n"
          ]
        },
        {
          "output_type": "execute_result",
          "data": {
            "text/plain": [
              "True"
            ]
          },
          "metadata": {},
          "execution_count": 4
        }
      ],
      "source": [
        "nltk.download('stopwords') # we use this to download that particular words that are not important in NLP"
      ]
    },
    {
      "cell_type": "code",
      "execution_count": 5,
      "metadata": {
        "colab": {
          "base_uri": "https://localhost:8080/"
        },
        "id": "6YnPaYOGCMGK",
        "outputId": "6e4629f9-dc78-4383-934f-5a46f527d53a"
      },
      "outputs": [
        {
          "output_type": "stream",
          "name": "stderr",
          "text": [
            "[nltk_data] Downloading package punkt to /root/nltk_data...\n",
            "[nltk_data]   Unzipping tokenizers/punkt.zip.\n"
          ]
        },
        {
          "output_type": "execute_result",
          "data": {
            "text/plain": [
              "True"
            ]
          },
          "metadata": {},
          "execution_count": 5
        }
      ],
      "source": [
        "nltk.download('punkt') # It allows you to tokenize text efficiently."
      ]
    },
    {
      "cell_type": "code",
      "execution_count": 6,
      "metadata": {
        "colab": {
          "base_uri": "https://localhost:8080/"
        },
        "id": "-P9BDGAgCMjJ",
        "outputId": "d5569802-4bff-40b8-e651-d2d5de8c1b86"
      },
      "outputs": [
        {
          "output_type": "stream",
          "name": "stdout",
          "text": [
            "['i', 'me', 'my', 'myself', 'we', 'our', 'ours', 'ourselves', 'you', \"you're\", \"you've\", \"you'll\", \"you'd\", 'your', 'yours', 'yourself', 'yourselves', 'he', 'him', 'his', 'himself', 'she', \"she's\", 'her', 'hers', 'herself', 'it', \"it's\", 'its', 'itself', 'they', 'them', 'their', 'theirs', 'themselves', 'what', 'which', 'who', 'whom', 'this', 'that', \"that'll\", 'these', 'those', 'am', 'is', 'are', 'was', 'were', 'be', 'been', 'being', 'have', 'has', 'had', 'having', 'do', 'does', 'did', 'doing', 'a', 'an', 'the', 'and', 'but', 'if', 'or', 'because', 'as', 'until', 'while', 'of', 'at', 'by', 'for', 'with', 'about', 'against', 'between', 'into', 'through', 'during', 'before', 'after', 'above', 'below', 'to', 'from', 'up', 'down', 'in', 'out', 'on', 'off', 'over', 'under', 'again', 'further', 'then', 'once', 'here', 'there', 'when', 'where', 'why', 'how', 'all', 'any', 'both', 'each', 'few', 'more', 'most', 'other', 'some', 'such', 'no', 'nor', 'not', 'only', 'own', 'same', 'so', 'than', 'too', 'very', 's', 't', 'can', 'will', 'just', 'don', \"don't\", 'should', \"should've\", 'now', 'd', 'll', 'm', 'o', 're', 've', 'y', 'ain', 'aren', \"aren't\", 'couldn', \"couldn't\", 'didn', \"didn't\", 'doesn', \"doesn't\", 'hadn', \"hadn't\", 'hasn', \"hasn't\", 'haven', \"haven't\", 'isn', \"isn't\", 'ma', 'mightn', \"mightn't\", 'mustn', \"mustn't\", 'needn', \"needn't\", 'shan', \"shan't\", 'shouldn', \"shouldn't\", 'wasn', \"wasn't\", 'weren', \"weren't\", 'won', \"won't\", 'wouldn', \"wouldn't\"]\n"
          ]
        }
      ],
      "source": [
        "print(stopwords.words('english'))"
      ]
    },
    {
      "cell_type": "code",
      "execution_count": 7,
      "metadata": {
        "colab": {
          "base_uri": "https://localhost:8080/"
        },
        "id": "ptWitVUCCORx",
        "outputId": "7b061122-d45f-4cee-dd63-bc5005304e93"
      },
      "outputs": [
        {
          "output_type": "execute_result",
          "data": {
            "text/plain": [
              "(37822, 2)"
            ]
          },
          "metadata": {},
          "execution_count": 7
        }
      ],
      "source": [
        "df.shape"
      ]
    },
    {
      "cell_type": "code",
      "execution_count": 8,
      "metadata": {
        "colab": {
          "base_uri": "https://localhost:8080/"
        },
        "id": "Z9C2A7onCSEo",
        "outputId": "7cb2b4ff-abcd-4cc3-acc1-dcb37c2cb8a0"
      },
      "outputs": [
        {
          "output_type": "stream",
          "name": "stdout",
          "text": [
            "0        3656\n",
            "1        2135\n",
            "2        1405\n",
            "3        1408\n",
            "4        3042\n",
            "         ... \n",
            "37817    2184\n",
            "37818    2713\n",
            "37819    1026\n",
            "37820    1415\n",
            "37821    3526\n",
            "Name: origin, Length: 37822, dtype: int64\n"
          ]
        }
      ],
      "source": [
        "length = df['origin'].str.len()\n",
        "print(length)"
      ]
    },
    {
      "cell_type": "code",
      "execution_count": 9,
      "metadata": {
        "id": "u6p_GECBCWah"
      },
      "outputs": [],
      "source": [
        "m = length.max()"
      ]
    },
    {
      "cell_type": "code",
      "execution_count": 10,
      "metadata": {
        "id": "ghOX6OKTCdWj"
      },
      "outputs": [],
      "source": [
        "t = length.min()"
      ]
    },
    {
      "cell_type": "code",
      "execution_count": 11,
      "metadata": {
        "colab": {
          "base_uri": "https://localhost:8080/"
        },
        "id": "4N3G7X3zEfoY",
        "outputId": "8c248297-b16d-4d66-b33b-c8b42f4863d6"
      },
      "outputs": [
        {
          "output_type": "stream",
          "name": "stdout",
          "text": [
            "5004.21130558934\n"
          ]
        }
      ],
      "source": [
        "mean = length.mean()\n",
        "print(mean)"
      ]
    },
    {
      "cell_type": "code",
      "execution_count": 16,
      "metadata": {
        "colab": {
          "base_uri": "https://localhost:8080/"
        },
        "id": "HMiTUvzPCiB8",
        "outputId": "1e44c6aa-a146-46d0-8c02-e02975d0f402"
      },
      "outputs": [
        {
          "output_type": "stream",
          "name": "stdout",
          "text": [
            "       label                                             origin\n",
            "0          0  Received: from rodan.UU.NET by aramis.rutgers....\n",
            "4          1  Received: from 201-1-198-159.dsl.telesp.net.br...\n",
            "11         1  Received: from unknown (HELO cbn.org) ([86.108...\n",
            "18         1  Received: from 201-1-198-159.dsl.telesp.net.br...\n",
            "28         1  Received: from unknown (HELO CEYLAN.dz3eo.org)...\n",
            "...      ...                                                ...\n",
            "37802      1  Received: from idc-ceemea.com (cpe-24-27-107-2...\n",
            "37805      1  Received: from mail.oh-oku.com (61-30-232-81.s...\n",
            "37813      1  Received: from 346EE3C8 (unknown [59.92.121.17...\n",
            "37814      1  Received: from 222.69.161.115 (unknown [222.69...\n",
            "37821      1  Received: from 3F9CFCB8 (201-43-166-100.dsl.te...\n",
            "\n",
            "[12472 rows x 2 columns]\n"
          ]
        }
      ],
      "source": [
        "threshold_min = 3000  # take out the particular set in which the length of the string is between 3000 to 50000\n",
        "threshold_max = 50000\n",
        "filtered_df = df[df['origin'].str.len().between(threshold_min, threshold_max)]\n",
        "print(filtered_df)"
      ]
    },
    {
      "cell_type": "code",
      "execution_count": 17,
      "metadata": {
        "colab": {
          "base_uri": "https://localhost:8080/"
        },
        "id": "3HYKBb84FI4S",
        "outputId": "82969e54-0cec-4371-aaff-deac7f027ec6"
      },
      "outputs": [
        {
          "output_type": "execute_result",
          "data": {
            "text/plain": [
              "label     0\n",
              "origin    0\n",
              "dtype: int64"
            ]
          },
          "metadata": {},
          "execution_count": 17
        }
      ],
      "source": [
        "filtered_df.isnull().sum() # NO null values, no filling of the empty spaces"
      ]
    },
    {
      "cell_type": "code",
      "execution_count": 18,
      "metadata": {
        "id": "Wp3fhvg5FPwA"
      },
      "outputs": [],
      "source": [
        "X = filtered_df.drop(columns='label', axis =1)\n",
        "Y = filtered_df['label']"
      ]
    },
    {
      "cell_type": "code",
      "execution_count": 19,
      "metadata": {
        "id": "mNkvfcZHFQMd"
      },
      "outputs": [],
      "source": [
        "port_stem = PorterStemmer() # this function helps to perform certain preprocessing on the text data"
      ]
    },
    {
      "cell_type": "code",
      "execution_count": 20,
      "metadata": {
        "id": "muBo1QSSFRuj"
      },
      "outputs": [],
      "source": [
        "def stemming(content):\n",
        "  stemmed_content = re.sub('[^a-zA-Z]',' ',content)\n",
        "  stemmed_content = stemmed_content.lower() # lowercase the text\n",
        "  tokens = word_tokenize(stemmed_content) # tokenize the words\n",
        "  stemmed_content = stemmed_content.split() # split it\n",
        "  stemmed_content = [port_stem.stem(word) for word in stemmed_content if not word in stopwords.words('english')] # remove the stopwords\n",
        "  stemmed_content = ' '.join(stemmed_content) #do join words so that td-idf vectorizer workl on it unless it will print the list\n",
        "  return stemmed_content"
      ]
    },
    {
      "cell_type": "code",
      "execution_count": 21,
      "metadata": {
        "colab": {
          "base_uri": "https://localhost:8080/"
        },
        "id": "p0UmbPMpFTad",
        "outputId": "0a764284-1ecf-4b68-ac07-46a3e2f64d87"
      },
      "outputs": [
        {
          "output_type": "stream",
          "name": "stderr",
          "text": [
            "<ipython-input-21-18309d4a1dab>:1: SettingWithCopyWarning: \n",
            "A value is trying to be set on a copy of a slice from a DataFrame.\n",
            "Try using .loc[row_indexer,col_indexer] = value instead\n",
            "\n",
            "See the caveats in the documentation: https://pandas.pydata.org/pandas-docs/stable/user_guide/indexing.html#returning-a-view-versus-a-copy\n",
            "  filtered_df.loc[:, 'origin'] = filtered_df['origin'].apply(stemming)\n"
          ]
        }
      ],
      "source": [
        "filtered_df.loc[:, 'origin'] = filtered_df['origin'].apply(stemming) # we apply the stemming function on the origin of the filtered data"
      ]
    },
    {
      "cell_type": "code",
      "execution_count": 22,
      "metadata": {
        "id": "6VwXh0hLFXwi",
        "colab": {
          "base_uri": "https://localhost:8080/"
        },
        "outputId": "a254b6a6-22c9-46c1-a547-9ca4aab99a50"
      },
      "outputs": [
        {
          "output_type": "stream",
          "name": "stdout",
          "text": [
            "0        receiv rodan uu net arami rutger edu smi ru id...\n",
            "4        receiv dsl telesp net br helo f f groucho cs p...\n",
            "11       receiv unknown helo cbn org groucho cs psu edu...\n",
            "18       receiv dsl telesp net br helo f f groucho cs p...\n",
            "28       receiv unknown helo ceylan dz eo org groucho c...\n",
            "                               ...                        \n",
            "37802    receiv idc ceemea com cpe houston re rr com ku...\n",
            "37805    receiv mail oh oku com static tfn net tw psi p...\n",
            "37813    receiv ee c unknown kukui ifa hawaii edu p sun...\n",
            "37814    receiv unknown kukui ifa hawaii edu p sun esmt...\n",
            "37821    receiv f cfcb dsl telesp net br kukui ifa hawa...\n",
            "Name: origin, Length: 12472, dtype: object\n"
          ]
        }
      ],
      "source": [
        "print(filtered_df['origin']) # output after stemming"
      ]
    },
    {
      "cell_type": "code",
      "source": [
        "X = df['origin'].values\n",
        "Y = df['label'].values"
      ],
      "metadata": {
        "id": "zGqwuwDgenAy"
      },
      "execution_count": 23,
      "outputs": []
    },
    {
      "cell_type": "code",
      "source": [
        "print(X)"
      ],
      "metadata": {
        "colab": {
          "base_uri": "https://localhost:8080/"
        },
        "id": "BBPkTN4_erxo",
        "outputId": "944a1c37-cfa8-4d69-a575-28df7ea35a4a"
      },
      "execution_count": 24,
      "outputs": [
        {
          "output_type": "stream",
          "name": "stdout",
          "text": [
            "['Received: from rodan.UU.NET by aramis.rutgers.edu (5.59/SMI4.0/RU1.4/3.08)\\n\\tid AA23563; Mon, 27 Jul 92 22:28:01 EDT\\nReceived: from relay2.UU.NET by rodan.UU.NET with SMTP\\n\\t(5.61/UUNET-mail-drop) id AA06229; Mon, 27 Jul 92 22:27:59 -0400\\nReceived: from uunet.uu.net (via LOCALHOST.UU.NET) by relay2.UU.NET with SMTP\\n\\t(5.61/UUNET-internet-primary) id AA26262; Mon, 27 Jul 92 22:28:08 -0400\\nReceived: from sarto.UUCP by uunet.uu.net with UUCP/RMAIL\\n\\t(queueing-rmail) id 222745.1653; Mon, 27 Jul 1992 22:27:45 EDT\\nNewsgroups: soc.religion.christian\\nPath: jhpb\\nFrom: jhpb@sarto.budd-lake.nj.us (Joseph H. Buehler)\\nSubject: new Catholic mailing list now up and running\\nMessage-Id: <JHPB.92Jul27221355@sarto.budd-lake.nj.us>\\nSender: jhpb@sarto.budd-lake.nj.us (Joseph H Buehler)\\nOrganization: none\\nDate: Tue, 28 Jul 1992 03:13:55 GMT\\nContent-Type: text\\nContent-Length: 2745\\nApparently-To: <soc-religion-christian>\\n\\nThe mailing list I queried about a few weeks ago is now up and\\nrunning.  I have also set up an archive server; see below.  The\\nfollowing is the official welcome to the list message at the moment.\\n\\nJoe Buehler\\n\\n--------------------\\n\\nThis mailing list is for people who desire serious, orthodox\\ndiscussion of the Roman Catholic religion.  I assume that it will\\ncater mainly to Catholics, but everyone else is welcome, provided they\\noperate within the below guidelines.  My own interests have a\\ndoctrinal bent, but I\\'m certainly not going to limit this list to just\\nthat sort of discussion.\\n\\nHaving participated in USENET religion groups for about 5 years now,\\none of my primary observations about Catholics on the net is that they\\ndo not know their religion very well.  My hope is that this list might\\nhelp remedy this problem to some extent.  I would like to make this a\\nnet resource available for Catholics who want to know more about their\\nreligion.\\n\\nAs far as moderation policy goes: The Catholic Church is not a\\ndemocracy, it\\'s a monarchy subject to a divinely given constitution.\\nI don\\'t set the rules in the Church, neither does my parish priest,\\nnor does my bishop, nor does the Pope.  Everyone has to adhere to the\\nway Christ set things up.  I think it follows that it\\'s not really\\nappropriate for someone to call himself a Catholic and argue with this\\nstate of affairs.  If you want to be Catholic, it\\'s simple enough, you\\nhave to follow the teaching of the Church.\\n\\nThe moderation policy will reflect this way of thinking: there are\\nplenty of other places on the net where Catholic doctrine can be\\nfreely attacked!  If in doubt, you can always subscribe, and see\\nwhether the list is to your taste.\\n\\nBesides the mailing list, there are a few other things that may be of\\ninterest:\\n\\n- I have set up an archive server that we can put interesting things\\nin.  (It doesn\\'t have anything in it at the moment except some UNIX\\nsoftware useful for such endeavors.)  Sorry, guys, but nothing that\\'s\\ncopyrighted goes into it!\\n\\n- I am planning on setting up a quotation server that can email\\nperiodic interesting citations from the principal sources of Catholic\\ndoctrine.  (Not done yet.)\\n\\n- I have obtained permission from the English language publishers of\\nthe Italian Catholic magazine \"30 Days\" to take material from their\\nmagazine.  I intend to scan some of the more interesting pictures\\n(ever seen a Cristero?  or St. Pius X?) and put them in the archives,\\nand also post extracts from some of the more interesting articles.\\n(It\\'s a European magazine, and is of generally higher quality than\\nAmerican Catholic material.  In my opinion...)\\n\\nIf you have any questions, would like to subscribe, etc., send email\\nto\\n\\n\\tcatholic@sarto.budd-lake.nj.us\\n\\n\\n\\n'\n",
            " 'Received: from unknown (HELO groucho.cs.psu.edu) ([222.135.252.194]) by groucho.cs.psu.edu\\n\\twith SMTP id <2533>; Sat, 3 Apr 1993 14:35:34 -0400\\nReceived: from auditor\\n     by content-guys.com with SMTP id LRJ1GB06TK\\n     for <whitney@groucho.cs.psu.edu>; Sat, 3 Apr 1993 09:36:36 -0600\\nDate: Sat, 3 Apr 1993 10:34:36 -0500\\nFrom: \"Stella Lowry\" <rookcuduq@yahoo.com>\\nTo: \"Brian\" <bernice@groucho.cs.psu.edu>\\nSubject: re[12]:\\nDate: Sat, 3 Apr 1993 10:34:36 -0500\\nUser-Agent: Mutt/1.5.1i\\nX-Mailer: Mutt/1.5.1i\\nX-Priority: 3 (Normal)\\nMIME-Version: 1.0\\nContent-Type: multipart/alternative;\\n\\tboundary=\"--6847392600180172994\"\\n\\n----6847392600180172994\\nContent-Type: text/plain;\\nContent-Transfer-Encoding: 7Bit\\n\\n           \\n                                            \\n LUXURY  WATCHES - BUY YOUR OWN ROLEX  FOR ONLY  $219!                                                        \\n                                               \\n  Rolex :: Cartier ::  Bvlgari  ::  Frank Muller  ::  Patek  Philippe :: Vacheron Constantin                   \\n   A.  Lange  & Sohne  ::  Audemars  Piguet  :: Jaeger-Lecoultre  ::  IWC  :: Officine  Panerai                                                    \\n Breitling ::  Omega ::  Tag  Heuer                                   \\n                       \\n   Exapmle:                 \\n ROLEX  Full 18K Gold  Daytona  for MEN -  only  $269!                                      \\n                                                 \\n    - Fast delivery                       \\n     -  The lowest prices  in the world                                                 \\n -  Worldwide shipping                                                                      \\n                                                            \\n Visit  our shop at:                                                                   \\n                        \\nhttp://vvhvjk130.sewandeatone.com\\n                                                                       \\n                                              \\n                                                   \\n                                   \\n                    \\n\\n----6847392600180172994--\\n\\n'\n",
            " 'Received: \\n\\tfrom 24-151-178-89.dhcp.kgpt.tn.charter.com (HELO webmail.inet7.com.mail5.psmtp.com) ([24.151.178.89]) by groucho.cs.psu.edu with SMTP id <2575>; Wed, 7 Apr 1993 01:31:55 -0400\\nmessage-id: <002801c67564$cb545980$25d02bef@vudwwhp>\\nFrom: \"Walter\" <trwmpca@downtowncumberland.com>\\nTo: <arline@groucho.cs.psu.edu>\\nSubject: Take a moment to explore this.\\nDate: Tue, 6 Apr 1993 20:33:13 -0600\\nMIME-Version: 1.0\\nContent-Type: text/plain;\\n\\tformat=flowed;\\n\\tcharset=\"iso-8859-1\";\\n\\treply-type=original\\nContent-Transfer-Encoding: 7bit\\nX-Priority: 3\\nX-MSMail-Priority: Normal\\nX-Mailer: Microsoft Outlook Express 6.00.3790.1830\\nX-MIMEOLE: Produced By Microsoft MimeOLE V6.00.3790.1830\\nX-Antivirus: avast! (VPS 0619-2, 05/11/2006), Outbound message\\nX-Antivirus-Status: Clean\\n\\nAcademic Qualifications available from prestigious NON-ACC REDITED uni versities.\\n\\nDo you have the knowledge and the experience but lack the qualifications?\\n\\nAre you getting turned down time and time again for the job of your dreams because you just don\\'t have the right letters after your name?\\n\\nGet the prestige that you deserve today!\\n\\nMove ahead in your career today!\\n\\nCALL 1-206-666-5510\\n\\nBac helors, Mas ters and Ph D\\'s available in your field!\\n\\nNo examinations! No classes! No textbooks!\\n\\nCall to register and receive your qual ifications within days!\\n\\n24 hours a day 7 days a week!\\n\\nConfidentiality assured!\\n\\n1-206-666-5510\\n'\n",
            " ...\n",
            " 'Received: from wonder.hananet.net (unknown [219.255.79.54])\\n\\tby kukui.ifa.hawaii.edu (8.11.7p2+Sun/8.11.7) with ESMTP id k4LGXIJ01957\\n\\tfor <webmastr@KUKUI.IFA.HAWAII.EDU>; Sun, 4 Jun 2006 01:43:29 -1000 (HST)\\nDate: Sun, 4 Jun 2006 01:43:59 4  -0540\\nFrom: \"Bettye Rowland\" <baitommyf@0451.com>\\nX-Mailer: The Bat! (v2.11.02) Educational\\nReply-To: \"Bettye Rowland\" <baitommyf@0451.com>\\nX-Priority: 3 (Normal)\\nMessage-ID: <37762922.20060428081404@0451.com>\\nTo: webmastr@KUKUI.IFA.HAWAII.EDU\\nSubject: All products for your health!\\nMIME-Version: 1.0\\nContent-Type: text/plain; charset=us-ascii\\nContent-Transfer-Encoding: 7bit\\n\\nhttp://vdtobj.docscan.info/?23759301\\n\\nSuffering from pain, depression or heartburn? We\\'ll help you!\\n\\n\\nAll verified dr@gs collected at one LICENSED online store! Great choice of wonderful meds to give you long-awaited relief! Operative support, fast shipping, secure p@yment processing and complete confidentiality!\\n\\n\\nThe store is VERIFIED BY BBB and APPROVED BY VISA!\\n\\nhttp://vdtobj.docscan.info/?23759301\\n'\n",
            " 'Received: from mail.csonline.com (unknown [61.133.225.142])\\n\\tby kukui.ifa.hawaii.edu (8.11.7p2+Sun/8.11.7) with ESMTP id k4LHSwJ07940\\n\\tfor <webmastr@KUKUI.IFA.HAWAII.EDU>; Sun, 4 Jun 2006 11:46:41 -1000 (HST)\\nmessage-id: <024e01c672c2$2b9d7880$c3ba1a02@norlqvu>\\nFrom: \"Daisy\" <nluwwj@avk-pl.nl>\\nTo: <webmastr@KUKUI.IFA.HAWAII.EDU>\\nSubject: Its here, now.\\nDate: Sun, 4 Jun 2006 06:47:29 -0600\\nMIME-Version: 1.0\\nContent-Type: text/plain;\\n\\tformat=flowed;\\n\\tcharset=\"iso-8859-1\";\\n\\treply-type=original\\nContent-Transfer-Encoding: 7bit\\nX-Priority: 3\\nX-MSMail-Priority: Normal\\nX-Mailer: Microsoft Outlook Express 6.00.3790.1830\\nX-MIMEOLE: Produced By Microsoft MimeOLE V6.00.3790.1830\\n\\nU N I V E R S I T Y  D I P L O M A S\\n\\nDo you want for a prosperous future, increased money earning power, and the respect of all?\\n\\nWe can assist with Diplomas from prestigious non-accredited universities based on your present\\nknowledge and life experience.\\n\\nNo required tests, classes, books, or interviews.\\n\\nCALL 1-206-666-5510\\n\\nBachelors, masters, MBA, and doctorate (PhD) diplomas available in the field of your choice -\\nthat\\'s right, you can become a Doctor and receive all the benefits and admiration that comes with it!\\n\\nCALL 1-206-666-5510\\n\\nNo one is turned down.\\n\\nConfidentiality assured\\n \\nCALL US 24 HOURS A DAY, 7 DAYS A WEEK\\n\\n1-206-666-5510\\n\\nContact us NOW to receive your diploma within days, and start improving your life!\\n\\n\\n'\n",
            " 'Received: from 3F9CFCB8 (201-43-166-100.dsl.telesp.net.br [201.43.166.100])\\n\\tby kukui.ifa.hawaii.edu (8.11.7p2+Sun/8.11.7) with ESMTP id k4LFhGJ26481\\n\\tfor <webmastr@KUKUI.IFA.HAWAII.EDU>; Sun, 4 Jun 2006 12:16:21 -1000 (HST)\\nReceived: from lists.mysql.com (lists2.mysql.com [213.136.52.31])\\n\\tby 201.43.166.100 (8.13.0/8.12.10) with SMTP id k78Ia7t5271582\\n\\tfor <webmastr@KUKUI.IFA.HAWAII.EDU>; Sun, 4 Jun 2006 08:16:58 -0500\\nReceived: (qmail 10581 invoked by uid 867); Sun, 4 Jun 2006 08:16:58 -0500\\nMailing-List: contact rivalry-help@lists.mysql.com; run by ezmlm\\nList-ID: <announce.mysql.com>\\nPrecedence: bulk\\nDate: Sun, 4 Jun 2006 08:16:58 -0500\\nFrom: \"Piper\" <decvkvwzkqhyj@omm.com>\\nTo: webmastr@KUKUI.IFA.HAWAII.EDU\\nSubject: This diet plan is over the roof\\nContent-return: allowed\\nX-mailer: Foxmail 5.0 [en]\\nX-Authentication-Warning: localhost.localdomain: apache set sender to decvkvwzkqhyj@omm.com using -f\\nX-Virus-Scanned: amavisd-new at aec.nu\\nMime-Version: 1.0\\nContent-Type: multipart/alternative;\\n boundary=\"------------002_Dragon525736768458\"\\nMessage-Id: <85790360336558.XCW6NgEzwe@echo>\\n\\nThis is a multi-part message in MIME format.\\n--------------002_Dragon525736768458\\nContent-Type: text/plain; charset=ISO-8859-1; format=flowed\\nContent-Transfer-Encoding: 7bit\\n\\nbut moat , coverall be cytochemistry be planeload or salk \\n\\n--------------002_Dragon525736768458\\nContent-Type: text/html; charset=ISO-8859-1\\nContent-Transfer-Encoding: 7bit\\n\\n<html>\\n<head>\\n<meta http-equiv=\"Content-Language\" content=\"en-us\">\\n<meta http-equiv=\"Content-Type\" content=\"text/html; charset=windows-1252\">\\n<title>Scudder David</title>\\n</head>\\n<body>\\n<table border=\"0\" width=\"50%\" bgcolor=brown>\\n<tr>\\n<td width=\"100%\">\\n<p align=\"center\"><b><font size=\"3\" color=\"white\" face=\"arial,verdana\">\\n<b><u>Truth About Hoodia</u></b><br><br>\\n</font>\\n<font size=\"2\" color=\"white\" face=\"verdana,arial\">\\nThe truth about food after 40 is that it is required<br> \\nfor maintenance only. We really don\\'t need to eat that<br>  \\nmuch to keep healthy, trim and fit. The problem is we<br>  \\nlive in a culture that forces food at us. Here in America<br> \\nthe tendency is to snack all day. For many of us there<br> \\nare no meal times. We sneak down to the fridge at two<br> \\nin the morning and hit the HaagenDaz, consume huge<br>  \\namounts of calories and still not feel full.<br>  \\nWe think too much about food, make too many ceremonies<br> \\naround it.<br><br>\\n<b><i>But how can we stop?</b></i><br><br> \\n\\nHoodia diet pill kills the appetite and attacks obesity,<br> \\nis organic with no synthetic or artificial appetite<br>  \\ncontrol agents, has no known side effects, contains<br>  \\na miracle molecule (up to 100,000 times more powerful<br> \\nthan glucose) that fools the brain into believing<br>  \\nyou are full, and even stops you from thinking about food.<br><br>   \\n<b><i>But it actually does MORE...</i></b><br><br> \\n\\nMoreover, aside from using it to stop unbearable hunger,<br>  \\nprovide unperturbed energy (not jitters or sleeplessness),<br> \\nand shore up emotional centeredness, the San also use it<br>  \\nto treat diabetes and hypertension. It\\'s even said to cure<br> \\nhangovers and upset stomachs too. With no noted downsides<br> \\nand no known side effects...<br> <br> \\n<b><i>What more could you ask?</b></i><br> \\n<br><br>\\n</font>\\n<a href=\"http://David008.skinnyhealthh.com\" target=\"_blank\">More Info Here</a><br><br>\\n</font></b></td>\\n</tr>\\n</table><br><br>\\nopt out of this campaign from our website\\n</body>\\n</html>\\n\\n--------------002_Dragon525736768458--\\n']\n"
          ]
        }
      ]
    },
    {
      "cell_type": "code",
      "source": [
        "print(Y)"
      ],
      "metadata": {
        "colab": {
          "base_uri": "https://localhost:8080/"
        },
        "id": "ELn5kPd-es-v",
        "outputId": "20388b37-b93d-4029-c6dc-280cfcffd683"
      },
      "execution_count": 25,
      "outputs": [
        {
          "output_type": "stream",
          "name": "stdout",
          "text": [
            "[0 1 1 ... 1 1 1]\n"
          ]
        }
      ]
    },
    {
      "cell_type": "code",
      "source": [
        "# converting the textual data to feature vectors\n",
        "vectorizer = TfidfVectorizer()\n",
        "vectorizer.fit(X)\n",
        "\n",
        "X = vectorizer.transform(X)"
      ],
      "metadata": {
        "id": "Zvv2t-mdet2j"
      },
      "execution_count": 26,
      "outputs": []
    },
    {
      "cell_type": "code",
      "source": [
        "print(X)"
      ],
      "metadata": {
        "colab": {
          "base_uri": "https://localhost:8080/"
        },
        "id": "gOxl_E9gexct",
        "outputId": "d1b8e952-76f7-4bd3-8b15-d5bd52d484a1"
      },
      "execution_count": 27,
      "outputs": [
        {
          "output_type": "stream",
          "name": "stdout",
          "text": [
            "  (0, 1429193)\t0.009786135448832755\n",
            "  (0, 1429147)\t0.03241197225304772\n",
            "  (0, 1418568)\t0.02245543618389874\n",
            "  (0, 1417790)\t0.020194958423906315\n",
            "  (0, 1355622)\t0.028493171018211277\n",
            "  (0, 1348094)\t0.018955429043212176\n",
            "  (0, 1348070)\t0.019292546876202434\n",
            "  (0, 1347404)\t0.021759980879068788\n",
            "  (0, 1346030)\t0.036102436262704055\n",
            "  (0, 1345593)\t0.023717368199657522\n",
            "  (0, 1345565)\t0.01643171535428194\n",
            "  (0, 1342088)\t0.016911915658363252\n",
            "  (0, 1342067)\t0.04653754222279035\n",
            "  (0, 1341612)\t0.023710932124161664\n",
            "  (0, 1339976)\t0.011355035270452668\n",
            "  (0, 1329120)\t0.03219188728993026\n",
            "  (0, 1327469)\t0.03010303224379228\n",
            "  (0, 1292269)\t0.02061581839389348\n",
            "  (0, 1287848)\t0.015843220260260873\n",
            "  (0, 1266496)\t0.16668790031388206\n",
            "  (0, 1266190)\t0.06672633463241688\n",
            "  (0, 1265930)\t0.23857388373445393\n",
            "  (0, 1264074)\t0.037825242671706436\n",
            "  (0, 1264040)\t0.02623002099341076\n",
            "  (0, 1263626)\t0.031070217110152322\n",
            "  :\t:\n",
            "  (37821, 147845)\t0.02092186040476118\n",
            "  (37821, 146725)\t0.016734216622049387\n",
            "  (37821, 126141)\t0.06835793033474234\n",
            "  (37821, 124084)\t0.020495278980261645\n",
            "  (37821, 112751)\t0.05771016577491947\n",
            "  (37821, 97941)\t0.019586878227869062\n",
            "  (37821, 72324)\t0.02644627602023827\n",
            "  (37821, 72096)\t0.01673039728332289\n",
            "  (37821, 70576)\t0.06893598263796567\n",
            "  (37821, 68760)\t0.0738708827005368\n",
            "  (37821, 40942)\t0.09536747872561673\n",
            "  (37821, 40585)\t0.06504733748616938\n",
            "  (37821, 38078)\t0.027012901240378178\n",
            "  (37821, 37670)\t0.014166052451015008\n",
            "  (37821, 36903)\t0.019641504529966235\n",
            "  (37821, 36238)\t0.02451793178731358\n",
            "  (37821, 34294)\t0.02809137754031575\n",
            "  (37821, 33310)\t0.0627745385964733\n",
            "  (37821, 32412)\t0.030535053748370292\n",
            "  (37821, 32411)\t0.08499920207569191\n",
            "  (37821, 32410)\t0.012489757966662593\n",
            "  (37821, 14048)\t0.0563727687995421\n",
            "  (37821, 12075)\t0.037131110895520514\n",
            "  (37821, 4040)\t0.2510981543858932\n",
            "  (37821, 1)\t0.02426662731893575\n"
          ]
        }
      ]
    },
    {
      "cell_type": "code",
      "source": [
        "X_train, X_test, Y_train, Y_test = train_test_split(X,Y,stratify = Y,random_state = 2) # train-test-split is used to split the data into training data and testing data around the split of 80:20"
      ],
      "metadata": {
        "id": "4UhC2Ui-e03t"
      },
      "execution_count": 28,
      "outputs": []
    },
    {
      "cell_type": "markdown",
      "source": [
        "# MODEL TRAINING"
      ],
      "metadata": {
        "id": "LfRVOFJWAxeA"
      }
    },
    {
      "cell_type": "code",
      "source": [
        "models = {\n",
        "    \"Logistic Regression\": LogisticRegression(),\n",
        "    \"Decision Tree\": DecisionTreeClassifier(),\n",
        "    \"Random Forest\": RandomForestClassifier(),\n",
        "    \"Support Vector Machine\": SVC(),\n",
        "}"
      ],
      "metadata": {
        "id": "UyVCjKR4fKTJ"
      },
      "execution_count": 29,
      "outputs": []
    },
    {
      "cell_type": "code",
      "source": [
        "\n",
        "for name, model in models.items():\n",
        "\n",
        "    model.fit(X_train, Y_train)\n",
        "\n",
        "\n",
        "    y_pred = model.predict(X_test)\n",
        "\n",
        "\n",
        "    accuracy = accuracy_score(Y_test, y_pred)\n",
        "\n",
        "\n",
        "    print(f\"{name}: Accuracy - {accuracy:.4f}\")"
      ],
      "metadata": {
        "colab": {
          "base_uri": "https://localhost:8080/"
        },
        "id": "Mg2-ddPJfhmM",
        "outputId": "eb911a34-ba52-4c7d-e6d7-faa9d6e61084"
      },
      "execution_count": null,
      "outputs": [
        {
          "output_type": "stream",
          "name": "stdout",
          "text": [
            "Logistic Regression: Accuracy - 0.9905\n",
            "Decision Tree: Accuracy - 0.9859\n",
            "Random Forest: Accuracy - 0.9935\n",
            "Support Vector Machine: Accuracy - 0.9947\n"
          ]
        }
      ]
    }
  ],
  "metadata": {
    "colab": {
      "provenance": []
    },
    "kernelspec": {
      "display_name": "Python 3",
      "name": "python3"
    },
    "language_info": {
      "name": "python"
    }
  },
  "nbformat": 4,
  "nbformat_minor": 0
}